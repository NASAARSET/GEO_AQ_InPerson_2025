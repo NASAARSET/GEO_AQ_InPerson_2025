{
  "nbformat": 4,
  "nbformat_minor": 0,
  "metadata": {
    "colab": {
      "provenance": [],
      "toc_visible": true
    },
    "kernelspec": {
      "name": "python3",
      "display_name": "Python 3"
    },
    "language_info": {
      "name": "python"
    }
  },
  "cells": [
    {
      "cell_type": "markdown",
      "source": [
        "# Overview\n",
        "\n",
        "This exercise demonstrates how TEMPO data can be used to track and assess ozone precursors and ozone formation potential, in support of assessing ozone exceedances.\n",
        "\n",
        "**Notebook Author / Affiliation**\n",
        "\n",
        "* Author: Carl Malings / NASA ARSET\n",
        "* This notebook is based on examples from the [ASDC Data and User Services Github](https://github.com/nasa/ASDC_Data_and_User_Services)."
      ],
      "metadata": {
        "id": "ie_Ber64pkVN"
      }
    },
    {
      "cell_type": "markdown",
      "source": [
        "## Package Installation and Setup\n",
        "\n",
        "*Instructions*\n",
        "\n",
        "* Run the cell below to install the non-standard packages required for this exercise.\n",
        "\n",
        "*NOTE: This also includes the pyrisg package, in addition to those used in previous exercises*"
      ],
      "metadata": {
        "id": "1irxs4Va0IQO"
      }
    },
    {
      "cell_type": "code",
      "source": [
        "!pip install --quiet harmony-py cartopy pyrsig"
      ],
      "metadata": {
        "id": "OdBaZPXd0H_M"
      },
      "execution_count": null,
      "outputs": []
    },
    {
      "cell_type": "markdown",
      "source": [
        "*Instructions*\n",
        "\n",
        "* Run the code cell below to import the required packages."
      ],
      "metadata": {
        "id": "z1205WzR3K9w"
      }
    },
    {
      "cell_type": "code",
      "execution_count": null,
      "metadata": {
        "id": "78NELfmHz4gW"
      },
      "outputs": [],
      "source": [
        "# Downloading TEMPO data\n",
        "import datetime as dt\n",
        "import getpass\n",
        "import os\n",
        "from harmony import BBox, Client, Collection, Request\n",
        "from harmony.config import Environment\n",
        "\n",
        "# Opening TEMPO data files\n",
        "import xarray as xr\n",
        "\n",
        "# Creating graphics\n",
        "import cartopy.crs as ccrs\n",
        "import cartopy.feature as cfeature\n",
        "import matplotlib.pyplot as plt\n",
        "from cartopy.mpl.gridliner import LONGITUDE_FORMATTER, LATITUDE_FORMATTER\n",
        "from xarray.plot.utils import label_from_attrs\n",
        "\n",
        "# Downloading AirNow data\n",
        "import pyrsig\n",
        "\n",
        "# Working with data tables\n",
        "import numpy as np\n",
        "import pandas as pd"
      ]
    },
    {
      "cell_type": "markdown",
      "source": [
        "# Download TEMPO NO2 and HCHO Data\n",
        "\n",
        "The first part of this exercise will be to download the TEMPO NO2 and HCHO data for the region and time period of interest.\n",
        "\n",
        "*Instructions*\n",
        "\n",
        "* Run the cell below and enter your Earthdata credentials to prepare for data downloading"
      ],
      "metadata": {
        "id": "IY9pYsFLqGN9"
      }
    },
    {
      "cell_type": "code",
      "source": [
        "username = input(\"Username:\")\n",
        "\n",
        "harmony_client = Client(env=Environment.PROD, auth=(username, getpass.getpass()))"
      ],
      "metadata": {
        "id": "G3yW37_nS2gd"
      },
      "execution_count": null,
      "outputs": []
    },
    {
      "cell_type": "markdown",
      "source": [
        "## Get TEMPO Level-3 NO2 Data\n",
        "\n",
        "The below code is copied from previous examples of downloading TEMPO data. You will use it to download TEMPO Level-3 NO2 data for a region and time period of inerest.\n",
        "\n",
        "**Region of Interest**: Colorado Front Range (latitude 38 to 41, longitude -106 to -103)\n",
        "\n",
        "**Time of Interest**: July 27 to 30, 2024\n",
        "\n",
        "*Instructions*\n",
        "\n",
        "* Modify the code in the next cells to download the TEMPO Level-3 NO2 data product for the region and time period of interest.\n",
        "\n",
        "* Run the cells in sequence to download the desired TEMPO data.\n",
        "\n",
        "<details>\n",
        "\n",
        "*Hint*: You will need to modify the `RoI`, `Collection id`, `start` and `stop` times.\n",
        "\n",
        "*Hint*: Use [Earthdata Search](https://search.earthdata.nasa.gov/search) to get the Collection id.\n",
        "\n",
        "</details>"
      ],
      "metadata": {
        "id": "pBXn2JTq0Isv"
      }
    },
    {
      "cell_type": "markdown",
      "source": [
        "*Build the request*"
      ],
      "metadata": {
        "id": "6utEczoTSJo0"
      }
    },
    {
      "cell_type": "code",
      "source": [
        "# This list will save the bounding box limits for later use:\n",
        "RoI = [-180, -90, 180, 90]\n",
        "\n",
        "# Structure the request:\n",
        "request_no2 = Request(\n",
        "    collection=Collection(id='collection id for level 3 NO2'),\n",
        "    temporal={\n",
        "        'start': dt.datetime(2001, 1, 1),\n",
        "        'stop': dt.datetime(2001, 1, 2)\n",
        "    },\n",
        "    spatial=BBox(RoI[0], RoI[1], RoI[2], RoI[3]),\n",
        ")\n",
        "\n",
        "# Check the request is valid:\n",
        "request_no2.is_valid()"
      ],
      "metadata": {
        "id": "HvvCgc3L2qOd"
      },
      "execution_count": null,
      "outputs": []
    },
    {
      "cell_type": "markdown",
      "source": [
        "*Submit and monitor the request*"
      ],
      "metadata": {
        "id": "xxKk-W2XSFE9"
      }
    },
    {
      "cell_type": "code",
      "source": [
        "job_id_no2 = harmony_client.submit(request_no2)\n",
        "print(f\"jobID = {job_id_no2}\")\n",
        "\n",
        "harmony_client.wait_for_processing(job_id_no2, show_progress=True)"
      ],
      "metadata": {
        "id": "bd5sdK4B3sq6"
      },
      "execution_count": null,
      "outputs": []
    },
    {
      "cell_type": "markdown",
      "source": [
        "*Download the results*"
      ],
      "metadata": {
        "id": "RwiabuNlSC-z"
      }
    },
    {
      "cell_type": "code",
      "source": [
        "download_dir = os.path.expanduser(\"~/tempo_data_ozone_precursor_exercise\")\n",
        "os.makedirs(download_dir, exist_ok=True)\n",
        "\n",
        "results_no2 = harmony_client.download_all(job_id_no2, directory=download_dir)\n",
        "all_results_stored_no2 = [f.result() for f in results_no2]\n",
        "\n",
        "print(f\"Number of files: {len(all_results_stored_no2)}\")"
      ],
      "metadata": {
        "id": "O_9NQeeA31QL"
      },
      "execution_count": null,
      "outputs": []
    },
    {
      "cell_type": "markdown",
      "source": [
        "*Open the files and combine into a single Dataset*"
      ],
      "metadata": {
        "id": "T3sxCjy0R9UG"
      }
    },
    {
      "cell_type": "code",
      "source": [
        "# Create empty lists for the TEMPO NO2 and QC data:\n",
        "data_list_no2 = []\n",
        "data_list_qc = []\n",
        "# Loop through the result files:\n",
        "for result_file in sorted(all_results_stored_no2):\n",
        "    # For each file, add the NO2 or QC data from that file to the appropriate list:\n",
        "    data_list_no2 += [xr.open_datatree(result_file)['product/vertical_column_troposphere']]\n",
        "    data_list_qc += [xr.open_datatree(result_file)['product/main_data_quality_flag']]\n",
        "\n",
        "# Concatenate each list into a Dataset along the time dimenion:\n",
        "tempo_data_no2_raw = xr.concat(data_list_no2,dim='time')\n",
        "tempo_data_qc = xr.concat(data_list_qc,dim='time')\n",
        "\n",
        "# Merge both Datasets together:\n",
        "tempo_data_no2 = xr.merge([tempo_data_no2_raw,tempo_data_qc])\n",
        "\n",
        "# Examine the result:\n",
        "tempo_data_no2"
      ],
      "metadata": {
        "id": "EpAOxM814iFA"
      },
      "execution_count": null,
      "outputs": []
    },
    {
      "cell_type": "markdown",
      "source": [
        "*Apply quality control*\n",
        "\n",
        "<details>\n",
        "\n",
        "For this exercise, we will accept Suspect data, to examine what effect this will have on our analysis.\n",
        "\n",
        "*Hint:* TEMPO quality flags are:\n",
        "\n",
        "* `0` = Normal quality (use for analysis)\n",
        "\n",
        "* `1` = Suspect quality (use with caution)\n",
        "\n",
        "* `2` = Bad quality (exclude from analysis)\n",
        "\n",
        "</details>"
      ],
      "metadata": {
        "id": "eLLRlJQlzwyB"
      }
    },
    {
      "cell_type": "code",
      "source": [
        "tempo_data_no2 = tempo_data_no2.where(tempo_data_no2['main_data_quality_flag'] <= 1).squeeze()"
      ],
      "metadata": {
        "id": "LobZBeIFzxK7"
      },
      "execution_count": null,
      "outputs": []
    },
    {
      "cell_type": "markdown",
      "source": [
        "## Get TEMPO Level-3 HCHO Data\n",
        "\n",
        "The below code is copied from previous examples of downloading TEMPO data. You will use it to download TEMPO Level-3 HCHO data for a region and time period of inerest.\n",
        "\n",
        "**Region of Interest**: Colorado Front Range (latitude 38 to 41, longitude -106 to -103)\n",
        "\n",
        "**Time of Interest**: July 27 to 30, 2024\n",
        "\n",
        "*Instructions*\n",
        "\n",
        "* Modify the code in the next cells to download the TEMPO Level-3 HCHO data product for the region and time period of interest.\n",
        "\n",
        "* Run the cells in sequence to download the desired TEMPO data.\n",
        "\n",
        "<details>\n",
        "\n",
        "*Hint*: You will need to modify the `RoI`, `Collection id`, `start` and `stop` times.\n",
        "\n",
        "*Hint*: Use [Earthdata Search](https://search.earthdata.nasa.gov/search) to get the Collection id.\n",
        "\n",
        "</details>"
      ],
      "metadata": {
        "id": "Co0Nd8tHVG4Z"
      }
    },
    {
      "cell_type": "markdown",
      "source": [
        "*Build the request*"
      ],
      "metadata": {
        "id": "URl_6VOWVYMI"
      }
    },
    {
      "cell_type": "code",
      "source": [
        "# Structure the request:\n",
        "request_hcho = Request(\n",
        "    collection=Collection(id='collection id for level 3 HCHO'),\n",
        "    temporal={\n",
        "        'start': dt.datetime(2001, 1, 1),\n",
        "        'stop': dt.datetime(2001, 1, 1)\n",
        "    },\n",
        "    spatial=BBox(RoI[0], RoI[1], RoI[2], RoI[3]),\n",
        ")\n",
        "\n",
        "# Check the request is valid:\n",
        "request_hcho.is_valid()"
      ],
      "metadata": {
        "id": "-wJbu0l4VcVo"
      },
      "execution_count": null,
      "outputs": []
    },
    {
      "cell_type": "markdown",
      "source": [
        "*Submit and monitor the request*"
      ],
      "metadata": {
        "id": "XhK8Qbm0wFPB"
      }
    },
    {
      "cell_type": "code",
      "source": [
        "job_id_hcho = harmony_client.submit(request_hcho)\n",
        "print(f\"jobID = {job_id_hcho}\")\n",
        "\n",
        "harmony_client.wait_for_processing(job_id_hcho, show_progress=True)"
      ],
      "metadata": {
        "id": "FZmy6XMDwRC1"
      },
      "execution_count": null,
      "outputs": []
    },
    {
      "cell_type": "markdown",
      "source": [
        "*Download the results*"
      ],
      "metadata": {
        "id": "Qeqdc5gKwXyC"
      }
    },
    {
      "cell_type": "code",
      "source": [
        "results_hcho = harmony_client.download_all(job_id_hcho, directory=download_dir)\n",
        "all_results_stored_hcho = [f.result() for f in results_hcho]\n",
        "\n",
        "print(f\"Number of files: {len(all_results_stored_hcho)}\")"
      ],
      "metadata": {
        "id": "7Bg50Wo7wcBh"
      },
      "execution_count": null,
      "outputs": []
    },
    {
      "cell_type": "markdown",
      "source": [
        "*Open the files and combine into a single Dataset*\n",
        "\n",
        "<details>\n",
        "\n",
        "* In addition to the HCHO and QC variables, we are also extracting the effective cloud fraction from this dataset, for later use to analyse the impact of cloud fraction on the results.\n",
        "\n",
        "</details>"
      ],
      "metadata": {
        "id": "jaUfG4Cwwgjz"
      }
    },
    {
      "cell_type": "code",
      "source": [
        "# Create empty lists for the TEMPO HCHO and QC data:\n",
        "data_list_hcho = []\n",
        "data_list_qc = []\n",
        "data_list_cloudfraction = []\n",
        "# Loop through the result files:\n",
        "for result_file in sorted(all_results_stored_hcho):\n",
        "    # For each file, add the HCHO or QC data from that file to the appropriate list:\n",
        "    data_list_hcho += [xr.open_datatree(result_file)['product/vertical_column']]\n",
        "    data_list_qc += [xr.open_datatree(result_file)['product/main_data_quality_flag']]\n",
        "    data_list_cloudfraction += [xr.open_datatree(result_file)['support_data/eff_cloud_fraction']]\n",
        "\n",
        "# Concatenate each list into a Dataset along the time dimenion:\n",
        "tempo_data_hcho_raw = xr.concat(data_list_hcho,dim='time')\n",
        "tempo_data_qc = xr.concat(data_list_qc,dim='time')\n",
        "tempo_data_cloudfraction = xr.concat(data_list_cloudfraction,dim='time')\n",
        "\n",
        "# Merge both Datasets together:\n",
        "tempo_data_hcho = xr.merge([tempo_data_hcho_raw,tempo_data_qc,tempo_data_cloudfraction])\n",
        "\n",
        "# Examine the result:\n",
        "tempo_data_hcho"
      ],
      "metadata": {
        "id": "Y5iTR4tywm6H"
      },
      "execution_count": null,
      "outputs": []
    },
    {
      "cell_type": "markdown",
      "source": [
        "*Apply quality control*\n",
        "\n",
        "<details>\n",
        "\n",
        "For this exercise, we will accept Suspect data, to examine what effect this will have on our analysis.\n",
        "\n",
        "*Hint:* TEMPO quality flags are:\n",
        "\n",
        "* `0` = Normal quality (use for analysis)\n",
        "\n",
        "* `1` = Suspect quality (use with caution)\n",
        "\n",
        "* `2` = Bad quality (exclude from analysis)\n",
        "\n",
        "</details>"
      ],
      "metadata": {
        "id": "ts4J67zVw8Be"
      }
    },
    {
      "cell_type": "code",
      "source": [
        "tempo_data_hcho = tempo_data_hcho.where(tempo_data_hcho['main_data_quality_flag'] <= 1).squeeze()"
      ],
      "metadata": {
        "id": "In2gp5Yaw-8l"
      },
      "execution_count": null,
      "outputs": []
    },
    {
      "cell_type": "markdown",
      "source": [
        "## Combine into a single TEMPO Dataset\n",
        "\n",
        "To facilitate analysis, it will help if all the data are in one dataset. However, the `main_data_quality_flag` is present in both datasets, which will cause an issue if they are combined.\n",
        "\n",
        "*Instructions*\n",
        "\n",
        "* First, write code to give the variables in each dataset new, unique names.\n",
        "\n",
        "* Second, merge the datasets together into one.\n",
        "\n",
        "<details>\n",
        "\n",
        "*Hint*: To rename variables in a dataset, use the following code example:\n",
        "\n",
        "```\n",
        "dataset = dataset.rename({'old_name':'new_name'})\n",
        "```\n",
        "\n",
        "*Hint*: To merge datasets together, use the following code example:\n",
        "\n",
        "```\n",
        "merged_dataset = xr.merge([dataset_1,dataset_2])\n",
        "```\n",
        "\n",
        "\n",
        "</details>"
      ],
      "metadata": {
        "id": "QsHxt1shyuC3"
      }
    },
    {
      "cell_type": "code",
      "source": [
        "# Rename the variables in each dataset:\n",
        "# WRITE YOUR CODE HERE\n",
        "\n",
        "# Merge the datasets together:\n",
        "# WRITE YOUR CODE HERE"
      ],
      "metadata": {
        "id": "8OQJ_BQVyx2y"
      },
      "execution_count": null,
      "outputs": []
    },
    {
      "cell_type": "markdown",
      "source": [
        "# Analyse the Formaldehyde-to-NO2 Ratios\n",
        "\n",
        "The second part of this exercise will be to assess the Formaldehyde-to-NO2 ratios from TEMPO data for the region and time period of interest."
      ],
      "metadata": {
        "id": "FapQN81P1Hzq"
      }
    },
    {
      "cell_type": "markdown",
      "source": [
        "## Calculate the Formaldehyde-to-NO2 ratio\n",
        "\n",
        "*Instructions*\n",
        "\n",
        "* Write code to compute the Formaldehyde-to-NO2 Ratio from the TEMPO data\n",
        "\n",
        "<details>\n",
        "\n",
        "*Hint*: You can divide variables in a dataset to create a new varaible with the following code example:\n",
        "\n",
        "```\n",
        "dataset['a_divided_by_b'] = dataset['a']/dataset['b']\n",
        "```\n",
        "\n",
        "</details>"
      ],
      "metadata": {
        "id": "oA_9WMJO1gkV"
      }
    },
    {
      "cell_type": "code",
      "source": [
        "# WRITE YOUR CODE HERE"
      ],
      "metadata": {
        "id": "GRC09O9G1NZ3"
      },
      "execution_count": null,
      "outputs": []
    },
    {
      "cell_type": "markdown",
      "source": [
        "## Plot Maps of Formaldehyde-to-NO2 Ratios\n",
        "\n",
        "The code below is taken from earlier plotting examples, with slight modifications.\n",
        "\n",
        "*Instructions*\n",
        "\n",
        "* Examine the code example below and determine where it is trying to get the Formaldehyde-to-NO2 ratio from.\n",
        "\n",
        "* Replace this with the appropriate dataset variable from your code.\n",
        "\n",
        "* Run the cell and check the output.\n",
        "\n",
        "* Try picking different timestamps to plot and examining the output.\n",
        "\n",
        "<details>\n",
        "\n",
        "*Hint*: The code example assumes that `tempo_data['fnr']` is the source of the Formaldehyde-to-NO2 ratio.\n",
        "\n",
        "*Hint*: There is a set of code at the bottom you can try to uncomment and modify to plot all timestamps in a loop.\n",
        "\n",
        "</details>\n"
      ],
      "metadata": {
        "id": "K0up-hojRZwn"
      }
    },
    {
      "cell_type": "code",
      "source": [
        "data_proj = ccrs.PlateCarree()\n",
        "\n",
        "def make_nice_map(axis):\n",
        "    axis.add_feature(cfeature.STATES.with_scale('50m'), edgecolor=\"black\", linewidth=0.5)\n",
        "    axis.coastlines(resolution=\"50m\", color=\"black\", linewidth=1.0)\n",
        "\n",
        "    axis.set_extent([RoI[0], RoI[2], RoI[1], RoI[3]], crs=data_proj)\n",
        "    grid = axis.gridlines(draw_labels=[\"left\", \"bottom\"], dms=True)\n",
        "    grid.xformatter = LONGITUDE_FORMATTER\n",
        "    grid.yformatter = LATITUDE_FORMATTER\n",
        "\n",
        "# Choose a timestamp to plot:\n",
        "timestamp_local = pd.Timestamp('2024-07-29 14:30:00',tz='America/Denver')\n",
        "\n",
        "# Convert the timestamp from local time to UTC\n",
        "timestamp_utc = timestamp_local.tz_convert(tz='UTC').to_datetime64()\n",
        "\n",
        "# Select the Formaldehyde-to-NO2 ratio data to plot\n",
        "data_to_plot = tempo_data['fnr'].sel(time=timestamp_utc,method='nearest')\n",
        "\n",
        "# Plot the data on a map\n",
        "fig, ax = plt.subplots(figsize=(10, 6), subplot_kw={\"projection\": data_proj})\n",
        "\n",
        "make_nice_map(ax)\n",
        "\n",
        "data_to_plot.plot(\n",
        "    ax=ax, # axis to add plot to\n",
        "    cmap=plt.get_cmap('PuOr_r'), # color scale\n",
        "    vmin=1, # minimum value\n",
        "    vmax=11, # maximum value\n",
        "    cbar_kwargs={'label':'HCHO / $NO_2$'} # set colorbar label\n",
        ")\n",
        "\n",
        "ax.set_title(timestamp_local)\n",
        "\n",
        "plt.show()\n",
        "\n",
        "# Uncomment the code below to plot all timestamps:\n",
        "#fig, axs = plt.subplots(\n",
        "#    nrows=len(tempo_data.time.values),\n",
        "#    sharex=True,\n",
        "#    figsize=(5, 50),\n",
        "#    gridspec_kw=dict(hspace=0.5),\n",
        "#    subplot_kw={\"projection\": data_proj},\n",
        "#)\n",
        "\n",
        "#for i,timestamp in enumerate(tempo_data.time.values):\n",
        "#    Var = tempo_data.sel(time=timestamp)['fnr']\n",
        "#    make_nice_map(axs[i])\n",
        "#    Var.plot(ax=axs[i],cmap=plt.get_cmap('PuOr'),vmin=1,vmax=11,cbar_kwargs={'label':'HCHO / $NO_2$'})\n",
        "#    axs[i].set_title(pd.Timestamp(timestamp,tz='UTC').tz_convert(tz=''America/Denver'').to_datetime64(), fontsize=8)\n",
        "\n",
        "#plt.show()"
      ],
      "metadata": {
        "id": "NlpqW3IeMPqs"
      },
      "execution_count": null,
      "outputs": []
    },
    {
      "cell_type": "markdown",
      "source": [
        "## Plot Long-term Average Maps of Formaldehyde-to-NO2 Ratios\n",
        "\n",
        "In most of these plots, there is a lot of noise to the data, making it hard to draw conclusions. By averaging over time, we can get a more stable result. By providing multiple observations per day, TEMPO allows for more robust averages in shorter periods of time.\n",
        "\n",
        "This code is similar to the above, except instead of plotting a single timestamp, it plots an average for a pariod of time. To make a more robust average, instead of plotting the average of ratios, we will first take the average of the HCHO and NO2, and then plot the ratio.\n",
        "\n",
        "*Instructions*\n",
        "\n",
        "* In the code template below, write code which will select a subset of the data between `timestamp_utc_start` and `timestamp_utc_stop`, take the average of that data over time, and compute a Formaledhyde-to-NO2 ratio for that average.\n",
        "\n",
        "* Run the cell and check the output.\n",
        "\n",
        "* Try picking different starting and stopping timestamps to plot and examining the output.\n",
        "\n",
        "<details>\n",
        "\n",
        "*Hint*: The following code example shows how to select a subset of data by selecting between a `start_time` and `stop_time`:\n",
        "\n",
        "```\n",
        "data_subset_by_time = data.sel(time=slice(start_time,stop_time))\n",
        "```\n",
        "\n",
        "*Hint*: The following code example shows how to average a dataset in the dimension `'time'`:\n",
        "\n",
        "```\n",
        "data_average_by_time = data.mean('time')\n",
        "```\n",
        "\n",
        "</details>\n"
      ],
      "metadata": {
        "id": "igcfCPDO8gyF"
      }
    },
    {
      "cell_type": "code",
      "source": [
        "# Choose timestamp to start and stop the averaging:\n",
        "timestamp_local_start = pd.Timestamp('2024-07-27 00:00:00',tz='America/Denver')\n",
        "timestamp_local_stop = pd.Timestamp('2024-07-28 23:59:59',tz='America/Denver')\n",
        "\n",
        "# Convert the timestamps from local time to UTC:\n",
        "timestamp_utc_start = timestamp_local_start.tz_convert(tz='UTC')\n",
        "timestamp_utc_stop = timestamp_local_stop.tz_convert(tz='UTC')\n",
        "\n",
        "# Subset the TEMPO data for the selected time:\n",
        "# WRITE YOUR CODE HERE\n",
        "\n",
        "# Compute the ratio to plot:\n",
        "# WRITE YOUR CODE HERE\n",
        "\n",
        "# Plot the data on a map\n",
        "fig, ax = plt.subplots(figsize=(10, 6), subplot_kw={\"projection\": data_proj})\n",
        "\n",
        "make_nice_map(ax)\n",
        "\n",
        "average_ratio_to_plot.plot(\n",
        "    ax=ax, # axis to add plot to\n",
        "    cmap=plt.get_cmap('PuOr'), # color scale\n",
        "    vmin=1, # minimum value\n",
        "    vmax=11, # maximum value\n",
        "    cbar_kwargs={'label':'HCHO / $NO_2$'} # set colorbar label\n",
        ")\n",
        "\n",
        "ax.set_title(f'{timestamp_local_start} to {timestamp_local_stop}')\n",
        "\n",
        "plt.show()"
      ],
      "metadata": {
        "id": "tRPrP0LB9DkC"
      },
      "execution_count": null,
      "outputs": []
    },
    {
      "cell_type": "markdown",
      "source": [
        "## Screen Data by Cloud Fraction\n",
        "\n",
        "There is still noise in the above plots. One way to reduce this noise might be to screen for only pixels with low cloud cover.\n",
        "\n",
        "*Instructions*\n",
        "\n",
        "* Duplicate your code for computing the Formaledhyde-to-NO2 ratio for a time period average from the previous cell.\n",
        "\n",
        "* Add an additional step which screens the data for a maximum effective cloud fraction. To start, try screening for data where the effective cloud fraction is below 0.25.\n",
        "\n",
        "* Run the cell and check the output.\n",
        "\n",
        "* Try picking different effective cloud fraction screens and examine the output.\n",
        "\n",
        "<details>\n",
        "\n",
        "*Hint*: The following code example shows how to screen a dataset with a conditional statement:\n",
        "\n",
        "```\n",
        "screened_data = data.where(condition).squeeze()\n",
        "```\n",
        "\n",
        "*Hint*: See the code above for screening data according the the quality flags for more examples.\n",
        "\n",
        "</details>\n"
      ],
      "metadata": {
        "id": "SkxuIFhkG-7-"
      }
    },
    {
      "cell_type": "code",
      "source": [
        "# Choose timestamp to start and stop the averaging:\n",
        "timestamp_local_start = pd.Timestamp('2024-07-27 00:00:00',tz='America/Denver')\n",
        "timestamp_local_stop = pd.Timestamp('2024-07-28 23:59:59',tz='America/Denver')\n",
        "\n",
        "# Convert the timestamps from local time to UTC:\n",
        "timestamp_utc_start = timestamp_local_start.tz_convert(tz='UTC')\n",
        "timestamp_utc_stop = timestamp_local_stop.tz_convert(tz='UTC')\n",
        "\n",
        "# Subset the TEMPO data for the selected time:\n",
        "# COPY OVER YOUR CODE FROM ABOVE\n",
        "\n",
        "# Screen the TEMPO data subset by effective cloud fraction:\n",
        "# WRITE YOUR CODE HERE\n",
        "\n",
        "# Compute the ratio to plot:\n",
        "# COPY OVER YOUR CODE FROM ABOVE\n",
        "\n",
        "# Plot the data on a map\n",
        "fig, ax = plt.subplots(figsize=(10, 6), subplot_kw={\"projection\": data_proj})\n",
        "\n",
        "make_nice_map(ax)\n",
        "\n",
        "average_ratio_to_plot.plot(\n",
        "    ax=ax, # axis to add plot to\n",
        "    cmap=plt.get_cmap('PuOr'), # color scale\n",
        "    vmin=1, # minimum value\n",
        "    vmax=11, # maximum value\n",
        "    cbar_kwargs={'label':'HCHO / $NO_2$'} # set colorbar label\n",
        ")\n",
        "\n",
        "ax.set_title(f'{timestamp_local_start} to {timestamp_local_stop}')\n",
        "\n",
        "plt.show()"
      ],
      "metadata": {
        "id": "knBeytUQHPwb"
      },
      "execution_count": null,
      "outputs": []
    },
    {
      "cell_type": "markdown",
      "source": [
        "# Bonus: Compare with AirNow Ozone Monitor Data\n",
        "\n",
        "We can add the surface Ozone monitor data into our plots for additional context."
      ],
      "metadata": {
        "id": "e5GEKvu3cdrh"
      }
    },
    {
      "cell_type": "markdown",
      "source": [
        "## Use pyrsig to download AirNow ozone\n",
        "\n",
        "We will use the [pyrsig package](https://barronh.github.io/pyrsig/) to easily bring the AirNow ozone data into python. Below is a template for how a query is structured and submitted to pyrsig. The result will be a data table with the ozone data, timestamps, and station information.\n",
        "\n",
        "*Instructions*\n",
        "\n",
        "* Modify the template to have the approrpiate start end and dates.\n",
        "\n",
        "* Modify the template to have the appropriate bounding box for the region of interest.\n",
        "\n",
        "* Run the cell to examine the output table."
      ],
      "metadata": {
        "id": "7c7NvIAEcgQ1"
      }
    },
    {
      "cell_type": "code",
      "source": [
        "# Define the query for pyrisg:\n",
        "api = pyrsig.RsigApi(bdate=\"2001-01-01\", # start date of the query, in the format \"YYYY-MM-DD\"\n",
        "                     edate=\"2001-01-02\", # end date of the query, in the format \"YYY-MM-DD\"\n",
        "                     bbox=(RoI[0],RoI[1],RoI[2],RoI[3]), # bounding box for the query, in the format (minimum_longitude,minimum_latitude,maximum_longitude,maximum_latitude)\n",
        "                     workdir=download_dir, # temporary directory to store the downloaded data\n",
        "                     gridfit=True) # data are not being re-aligned to a grid\n",
        "airnowkey = \"airnow.ozone\" # this is the pyrsig code to specify ozone data from AirNow\n",
        "\n",
        "# Execute the query to download the data:\n",
        "airnow_data = api.to_dataframe(airnowkey, unit_keys=False, parse_dates=True)\n",
        "\n",
        "# Examine the resulting table:\n",
        "airnow_data"
      ],
      "metadata": {
        "id": "V73G4YMDdNs7"
      },
      "execution_count": null,
      "outputs": []
    },
    {
      "cell_type": "markdown",
      "source": [
        "## Map Comparison Plot\n",
        "\n",
        "Finally, we will overlay ozone monitor averages onto an Formaldehyde-to-NO2 ratio map. The code example below should generate this plot, but again, it assumes the data are in specifically named datasets which might not exist in your run of the code.\n",
        "\n",
        "*Instructions*\n",
        "\n",
        "* Examine the code and see if you can understand what is happening in each part.\n",
        "\n",
        "* Try to run the code below, troubleshooting any errors you encounter.\n",
        "\n",
        "* Try changing the axis limits on the ozone plot colorbar.\n",
        "\n",
        "<details>\n",
        "\n",
        "*Hint*: If youn are getting errors, try copying subsets of the code into a new cell to run it incrementally, and see where the errors are coming from. Put the name of a variable in a cell by itself and run that cell to see what the variable looks like."
      ],
      "metadata": {
        "id": "wCsWa5KzcrbA"
      }
    },
    {
      "cell_type": "code",
      "source": [
        "# Choose timestamp to start and stop the averaging:\n",
        "timestamp_local_start = pd.Timestamp('2024-07-29 00:00:00',tz='America/Denver')\n",
        "timestamp_local_stop = pd.Timestamp('2024-07-29 23:59:59',tz='America/Denver')\n",
        "\n",
        "# Convert the timestamps from local time to UTC:\n",
        "timestamp_utc_start = timestamp_local_start.tz_convert(tz='UTC')\n",
        "timestamp_utc_stop = timestamp_local_stop.tz_convert(tz='UTC')\n",
        "\n",
        "# Subset the TEMPO data for the selected time:\n",
        "# COPY OVER YOUR CODE FROM ABOVE\n",
        "\n",
        "# Screen the TEMPO data subset by effective cloud fraction:\n",
        "# COPY OVER YOUR CODE FROM ABOVE\n",
        "\n",
        "# Compute the ratio to plot:\n",
        "# COPY OVER YOUR CODE FROM ABOVE\n",
        "\n",
        "# Subset the AirNow ozone data to plot:\n",
        "airnow_data_subset = airnow_data.where((airnow_data['time'] >= timestamp_utc_start) & (airnow_data['time'] < timestamp_utc_stop)).dropna(how='all')\n",
        "\n",
        "# Compute the average:\n",
        "average_ozone_to_plot = airnow_data_subset[['STATION','LATITUDE','LONGITUDE','ozone']].groupby('STATION').mean()\n",
        "\n",
        "# Plot the data on a map\n",
        "fig, ax = plt.subplots(figsize=(10, 6), subplot_kw={\"projection\": data_proj})\n",
        "\n",
        "make_nice_map(ax)\n",
        "\n",
        "ratio_plot = average_ratio_to_plot.plot(\n",
        "    ax=ax, # axis to add plot to\n",
        "    cmap=plt.get_cmap('PuOr'), # color scale\n",
        "    vmin=1, # minimum value\n",
        "    vmax=11, # maximum value\n",
        "    add_colorbar=False\n",
        ")\n",
        "\n",
        "colorbar_ratio = plt.colorbar(ratio_plot)\n",
        "colorbar_ratio.set_label('HCHO / $NO_2$')\n",
        "\n",
        "ozone_plot = ax.scatter(average_ozone_to_plot['LONGITUDE'],\n",
        "                        average_ozone_to_plot['LATITUDE'],\n",
        "                        s=100,\n",
        "                        c=average_ozone_to_plot['ozone'],\n",
        "                        cmap=plt.get_cmap('Greens'),\n",
        "                        vmin=40,\n",
        "                        vmax=60,\n",
        "                        edgecolors='black')\n",
        "\n",
        "colorbar_ozone = plt.colorbar(ozone_plot)\n",
        "colorbar_ozone.set_label('Ozone [ppb]')\n",
        "\n",
        "ax.set_title(f'{timestamp_local_start} to {timestamp_local_stop}')\n",
        "\n",
        "plt.show()"
      ],
      "metadata": {
        "id": "5Rwc1Wh4BREW"
      },
      "execution_count": null,
      "outputs": []
    }
  ]
}